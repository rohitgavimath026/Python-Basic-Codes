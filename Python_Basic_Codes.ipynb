{
  "nbformat": 4,
  "nbformat_minor": 0,
  "metadata": {
    "colab": {
      "name": "Python Basic Codes.ipynb",
      "provenance": [],
      "collapsed_sections": [],
      "authorship_tag": "ABX9TyM3+eDMaz8NnFOz04iVZyTs",
      "include_colab_link": true
    },
    "kernelspec": {
      "name": "python3",
      "display_name": "Python 3"
    },
    "language_info": {
      "name": "python"
    }
  },
  "cells": [
    {
      "cell_type": "markdown",
      "metadata": {
        "id": "view-in-github",
        "colab_type": "text"
      },
      "source": [
        "<a href=\"https://colab.research.google.com/github/rohitgavimath026/Python-Basic-Codes/blob/main/Python_Basic_Codes.ipynb\" target=\"_parent\"><img src=\"https://colab.research.google.com/assets/colab-badge.svg\" alt=\"Open In Colab\"/></a>"
      ]
    },
    {
      "cell_type": "markdown",
      "metadata": {
        "id": "7vCPa76I3iTK"
      },
      "source": [
        "# **Area of Circle**"
      ]
    },
    {
      "cell_type": "code",
      "metadata": {
        "colab": {
          "base_uri": "https://localhost:8080/"
        },
        "id": "3taMobwD1Lqh",
        "outputId": "23e3e59c-9680-479f-afd7-d6c9bd58fb6f"
      },
      "source": [
        "from math import *\n",
        "r = float(input(\"Enter number : \"))\n",
        "res = pi*(r**2)\n",
        "print(res)"
      ],
      "execution_count": 12,
      "outputs": [
        {
          "output_type": "stream",
          "name": "stdout",
          "text": [
            "Enter number : 5\n",
            "78.53981633974483\n"
          ]
        }
      ]
    },
    {
      "cell_type": "markdown",
      "metadata": {
        "id": "z8vyWRfM6RBQ"
      },
      "source": [
        "# **Arm Strong Number**"
      ]
    },
    {
      "cell_type": "code",
      "metadata": {
        "colab": {
          "base_uri": "https://localhost:8080/"
        },
        "id": "SDQWzmxa6EaQ",
        "outputId": "d33aafee-6fce-496b-9357-a687bec9e8fb"
      },
      "source": [
        "\"\"\"EX:- 153=(1^3)+(5^3)+(3^3)\n",
        "        1634=(1^4)+(6^4)+(3^4)+(4^4)\"\"\"\n",
        "\n",
        "num = int(input(\"Enter number : \"))\n",
        "order = len(str(num))\n",
        "sum = 0\n",
        "temp = num\n",
        "while temp>0:\n",
        "  digit = temp%10\n",
        "  sum += digit**order\n",
        "  temp //= 10\n",
        "if num == sum:\n",
        "  print(num,\"is Armstrong\")\n",
        "else:\n",
        "  print(num,\"is not an Armstrong\")"
      ],
      "execution_count": 18,
      "outputs": [
        {
          "output_type": "stream",
          "name": "stdout",
          "text": [
            "Enter number : 153\n",
            "153 is Armstrong\n"
          ]
        }
      ]
    },
    {
      "cell_type": "markdown",
      "metadata": {
        "id": "5Wk8fV2Y8mAd"
      },
      "source": [
        "# **ASCII Value**"
      ]
    },
    {
      "cell_type": "code",
      "metadata": {
        "colab": {
          "base_uri": "https://localhost:8080/"
        },
        "id": "TyeQlNb_8rHc",
        "outputId": "8fc06190-0010-4c82-c94d-4afdc2f63209"
      },
      "source": [
        "char = input(\"Enter the character : \")\n",
        "print(\"ASCCI Value of '\"+str(char)+ \"' is\",ord(char))\n"
      ],
      "execution_count": 32,
      "outputs": [
        {
          "output_type": "stream",
          "name": "stdout",
          "text": [
            "Enter the character : A\n",
            "ASCCI Value of 'A' is 65\n"
          ]
        }
      ]
    },
    {
      "cell_type": "markdown",
      "metadata": {
        "id": "CZmM5Ye-9bsR"
      },
      "source": [
        "# **Binary Addition**"
      ]
    },
    {
      "cell_type": "code",
      "metadata": {
        "colab": {
          "base_uri": "https://localhost:8080/"
        },
        "id": "psi8TDHZ9ldE",
        "outputId": "163ae7e0-b277-4a11-f4dd-f0250ee0e16e"
      },
      "source": [
        "num1 = int(input(\"Enter the 1st number : \"))\n",
        "num2 = int(input(\"Enter the 2nd number : \"))\n",
        "sum = num1+num2\n",
        "print(bin(sum))"
      ],
      "execution_count": 51,
      "outputs": [
        {
          "output_type": "stream",
          "name": "stdout",
          "text": [
            "Enter the 1st number : 2\n",
            "Enter the 2nd number : 2\n",
            "0b100\n"
          ]
        }
      ]
    },
    {
      "cell_type": "markdown",
      "metadata": {
        "id": "I4s6wDUK9ffA"
      },
      "source": [
        "# **Compound Interest**"
      ]
    },
    {
      "cell_type": "code",
      "metadata": {
        "colab": {
          "base_uri": "https://localhost:8080/"
        },
        "id": "pWQ8BTKl9gIQ",
        "outputId": "8243ef99-4a03-4888-d048-cf7abaea9d48"
      },
      "source": [
        "P = float(input(\"Enter the Principal Amount : \"))\n",
        "T = float(input(\"Enter the Time period : \"))\n",
        "R = float(input(\"Enter the Rate : \"))\n",
        "\n",
        "amount = P*(pow((1+R/100),T))\n",
        "\n",
        "print(\"Compound Interest :\",amount)"
      ],
      "execution_count": 54,
      "outputs": [
        {
          "output_type": "stream",
          "name": "stdout",
          "text": [
            "Enter the Principal Amount : 10000\n",
            "Enter the Time period : 5\n",
            "Enter the Rate : 10\n",
            "Compound Interest : 16105.100000000006\n"
          ]
        }
      ]
    },
    {
      "cell_type": "markdown",
      "metadata": {
        "id": "_e6ZILkBAUZ1"
      },
      "source": [
        "# **Simple Interest**"
      ]
    },
    {
      "cell_type": "code",
      "metadata": {
        "colab": {
          "base_uri": "https://localhost:8080/"
        },
        "id": "m80zfJ8TAZMM",
        "outputId": "34186e62-f361-47d5-c5bf-70565824fe2f"
      },
      "source": [
        "P = float(input(\"Enter the Principal Amount : \"))\n",
        "T = float(input(\"Enter the Time period : \"))\n",
        "R = float(input(\"Enter the Rate : \"))\n",
        "\n",
        "SI = (P*T*R)/100\n",
        "\n",
        "print(\"Simple Interest :\",SI)\n"
      ],
      "execution_count": 55,
      "outputs": [
        {
          "output_type": "stream",
          "name": "stdout",
          "text": [
            "Enter the Principal Amount : 10000\n",
            "Enter the Time period : 5\n",
            "Enter the Rate : 10\n",
            "Simple Interest : 5000.0\n"
          ]
        }
      ]
    },
    {
      "cell_type": "markdown",
      "metadata": {
        "id": "jHdfthrNA6B9"
      },
      "source": [
        "# **Factorial of a Number**"
      ]
    },
    {
      "cell_type": "code",
      "metadata": {
        "colab": {
          "base_uri": "https://localhost:8080/"
        },
        "id": "NeIcU80WAhmk",
        "outputId": "916d23c3-749d-4b32-9358-9b7fb04d0a45"
      },
      "source": [
        "#METHOD 1:-\n",
        "\n",
        "from math import *\n",
        "num = int(input(\"Enter the number : \"))\n",
        "print(\"Factorial :\",factorial(num))"
      ],
      "execution_count": 59,
      "outputs": [
        {
          "output_type": "stream",
          "name": "stdout",
          "text": [
            "Enter the number : 5\n",
            "Factorial : 120\n"
          ]
        }
      ]
    },
    {
      "cell_type": "code",
      "metadata": {
        "colab": {
          "base_uri": "https://localhost:8080/"
        },
        "id": "V5nJhspWBR3f",
        "outputId": "264f49c2-28a4-414d-d58d-f3b93dba816e"
      },
      "source": [
        "#METHOD 2:-\n",
        "\n",
        "num = int(input())\n",
        "fact = 1\n",
        "if num < 0:\n",
        "  print(\"0\")\n",
        "else:\n",
        "  while(num>1):\n",
        "    fact *= num\n",
        "    num -= 1\n",
        "print(\"Factorial :\",fact)\n"
      ],
      "execution_count": 61,
      "outputs": [
        {
          "output_type": "stream",
          "name": "stdout",
          "text": [
            "5\n",
            "Factorial : 120\n"
          ]
        }
      ]
    },
    {
      "cell_type": "code",
      "metadata": {
        "id": "XemAtcGNB0vM"
      },
      "source": [
        ""
      ],
      "execution_count": null,
      "outputs": []
    }
  ]
}