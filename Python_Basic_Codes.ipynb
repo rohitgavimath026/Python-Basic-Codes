{
  "nbformat": 4,
  "nbformat_minor": 0,
  "metadata": {
    "colab": {
      "name": "Python Basic Codes.ipynb",
      "provenance": [],
      "collapsed_sections": [],
      "authorship_tag": "ABX9TyMOTd4ai0vxRAmc5eK91Qrd",
      "include_colab_link": true
    },
    "kernelspec": {
      "name": "python3",
      "display_name": "Python 3"
    },
    "language_info": {
      "name": "python"
    }
  },
  "cells": [
    {
      "cell_type": "markdown",
      "metadata": {
        "id": "view-in-github",
        "colab_type": "text"
      },
      "source": [
        "<a href=\"https://colab.research.google.com/github/rohitgavimath026/Python-Basic-Codes/blob/main/Python_Basic_Codes.ipynb\" target=\"_parent\"><img src=\"https://colab.research.google.com/assets/colab-badge.svg\" alt=\"Open In Colab\"/></a>"
      ]
    },
    {
      "cell_type": "markdown",
      "metadata": {
        "id": "7vCPa76I3iTK"
      },
      "source": [
        "# **1. Area of Circle**"
      ]
    },
    {
      "cell_type": "code",
      "metadata": {
        "colab": {
          "base_uri": "https://localhost:8080/"
        },
        "id": "3taMobwD1Lqh",
        "outputId": "23e3e59c-9680-479f-afd7-d6c9bd58fb6f"
      },
      "source": [
        "from math import *\n",
        "r = float(input(\"Enter number : \"))\n",
        "res = pi*(r**2)\n",
        "print(res)"
      ],
      "execution_count": null,
      "outputs": [
        {
          "output_type": "stream",
          "name": "stdout",
          "text": [
            "Enter number : 5\n",
            "78.53981633974483\n"
          ]
        }
      ]
    },
    {
      "cell_type": "markdown",
      "metadata": {
        "id": "z8vyWRfM6RBQ"
      },
      "source": [
        "# **2. Arm Strong Number**"
      ]
    },
    {
      "cell_type": "code",
      "metadata": {
        "colab": {
          "base_uri": "https://localhost:8080/"
        },
        "id": "SDQWzmxa6EaQ",
        "outputId": "d33aafee-6fce-496b-9357-a687bec9e8fb"
      },
      "source": [
        "\"\"\"EX:- 153=(1^3)+(5^3)+(3^3)\n",
        "        1634=(1^4)+(6^4)+(3^4)+(4^4)\"\"\"\n",
        "\n",
        "num = int(input(\"Enter number : \"))\n",
        "order = len(str(num))\n",
        "sum = 0\n",
        "temp = num\n",
        "while temp>0:\n",
        "  digit = temp%10\n",
        "  sum += digit**order\n",
        "  temp //= 10\n",
        "if num == sum:\n",
        "  print(num,\"is Armstrong\")\n",
        "else:\n",
        "  print(num,\"is not an Armstrong\")"
      ],
      "execution_count": null,
      "outputs": [
        {
          "output_type": "stream",
          "name": "stdout",
          "text": [
            "Enter number : 153\n",
            "153 is Armstrong\n"
          ]
        }
      ]
    },
    {
      "cell_type": "markdown",
      "metadata": {
        "id": "5Wk8fV2Y8mAd"
      },
      "source": [
        "# **3. ASCII Value**"
      ]
    },
    {
      "cell_type": "code",
      "metadata": {
        "colab": {
          "base_uri": "https://localhost:8080/"
        },
        "id": "TyeQlNb_8rHc",
        "outputId": "8fc06190-0010-4c82-c94d-4afdc2f63209"
      },
      "source": [
        "char = input(\"Enter the character : \")\n",
        "print(\"ASCCI Value of '\"+str(char)+ \"' is\",ord(char))\n"
      ],
      "execution_count": null,
      "outputs": [
        {
          "output_type": "stream",
          "name": "stdout",
          "text": [
            "Enter the character : A\n",
            "ASCCI Value of 'A' is 65\n"
          ]
        }
      ]
    },
    {
      "cell_type": "markdown",
      "metadata": {
        "id": "CZmM5Ye-9bsR"
      },
      "source": [
        "# **4. Binary Addition**"
      ]
    },
    {
      "cell_type": "code",
      "metadata": {
        "colab": {
          "base_uri": "https://localhost:8080/"
        },
        "id": "psi8TDHZ9ldE",
        "outputId": "4f227001-49d4-40d0-a17b-d7392dc50db2"
      },
      "source": [
        "num1 = int(input(\"Enter the 1st number : \"))\n",
        "num2 = int(input(\"Enter the 2nd number : \"))\n",
        "sum = num1+num2\n",
        "print(bin(sum))"
      ],
      "execution_count": 24,
      "outputs": [
        {
          "output_type": "stream",
          "name": "stdout",
          "text": [
            "Enter the 1st number : 2\n",
            "Enter the 2nd number : 2\n",
            "0b100\n"
          ]
        }
      ]
    },
    {
      "cell_type": "markdown",
      "metadata": {
        "id": "I4s6wDUK9ffA"
      },
      "source": [
        "# **5. Compound Interest**"
      ]
    },
    {
      "cell_type": "code",
      "metadata": {
        "colab": {
          "base_uri": "https://localhost:8080/"
        },
        "id": "pWQ8BTKl9gIQ",
        "outputId": "8243ef99-4a03-4888-d048-cf7abaea9d48"
      },
      "source": [
        "P = float(input(\"Enter the Principal Amount : \"))\n",
        "T = float(input(\"Enter the Time period : \"))\n",
        "R = float(input(\"Enter the Rate : \"))\n",
        "\n",
        "amount = P*(pow((1+R/100),T))\n",
        "\n",
        "print(\"Compound Interest :\",amount)"
      ],
      "execution_count": null,
      "outputs": [
        {
          "output_type": "stream",
          "name": "stdout",
          "text": [
            "Enter the Principal Amount : 10000\n",
            "Enter the Time period : 5\n",
            "Enter the Rate : 10\n",
            "Compound Interest : 16105.100000000006\n"
          ]
        }
      ]
    },
    {
      "cell_type": "markdown",
      "metadata": {
        "id": "_e6ZILkBAUZ1"
      },
      "source": [
        "# **6. Simple Interest**"
      ]
    },
    {
      "cell_type": "code",
      "metadata": {
        "colab": {
          "base_uri": "https://localhost:8080/"
        },
        "id": "m80zfJ8TAZMM",
        "outputId": "34186e62-f361-47d5-c5bf-70565824fe2f"
      },
      "source": [
        "P = float(input(\"Enter the Principal Amount : \"))\n",
        "T = float(input(\"Enter the Time period : \"))\n",
        "R = float(input(\"Enter the Rate : \"))\n",
        "\n",
        "SI = (P*T*R)/100\n",
        "\n",
        "print(\"Simple Interest :\",SI)\n"
      ],
      "execution_count": null,
      "outputs": [
        {
          "output_type": "stream",
          "name": "stdout",
          "text": [
            "Enter the Principal Amount : 10000\n",
            "Enter the Time period : 5\n",
            "Enter the Rate : 10\n",
            "Simple Interest : 5000.0\n"
          ]
        }
      ]
    },
    {
      "cell_type": "markdown",
      "metadata": {
        "id": "jHdfthrNA6B9"
      },
      "source": [
        "# **7. Factorial of a Number**"
      ]
    },
    {
      "cell_type": "code",
      "metadata": {
        "colab": {
          "base_uri": "https://localhost:8080/"
        },
        "id": "NeIcU80WAhmk",
        "outputId": "916d23c3-749d-4b32-9358-9b7fb04d0a45"
      },
      "source": [
        "#METHOD 1:-\n",
        "\n",
        "from math import *\n",
        "num = int(input(\"Enter the number : \"))\n",
        "print(\"Factorial :\",factorial(num))"
      ],
      "execution_count": null,
      "outputs": [
        {
          "output_type": "stream",
          "name": "stdout",
          "text": [
            "Enter the number : 5\n",
            "Factorial : 120\n"
          ]
        }
      ]
    },
    {
      "cell_type": "code",
      "metadata": {
        "colab": {
          "base_uri": "https://localhost:8080/"
        },
        "id": "V5nJhspWBR3f",
        "outputId": "264f49c2-28a4-414d-d58d-f3b93dba816e"
      },
      "source": [
        "#METHOD 2:-\n",
        "\n",
        "num = int(input())\n",
        "fact = 1\n",
        "if num < 0:\n",
        "  print(\"0\")\n",
        "else:\n",
        "  while(num>1):\n",
        "    fact *= num\n",
        "    num -= 1\n",
        "print(\"Factorial :\",fact)\n"
      ],
      "execution_count": null,
      "outputs": [
        {
          "output_type": "stream",
          "name": "stdout",
          "text": [
            "5\n",
            "Factorial : 120\n"
          ]
        }
      ]
    },
    {
      "cell_type": "markdown",
      "metadata": {
        "id": "k21nQoMa2NaV"
      },
      "source": [
        "# **8. Fibonacci Series**"
      ]
    },
    {
      "cell_type": "code",
      "metadata": {
        "id": "XemAtcGNB0vM",
        "colab": {
          "base_uri": "https://localhost:8080/"
        },
        "outputId": "dc707a0f-3cc7-44db-de3c-f35fcb03cb7f"
      },
      "source": [
        "n_terms = int(input(\"Enter the no. of terms : \"))\n",
        "n1,n2 = 0,1\n",
        "count = 0\n",
        "if n_terms<=0:\n",
        "  print(\"Enter valid number.\")\n",
        "elif n_terms == 1:\n",
        "  print(\"Fibonacci Series :\")\n",
        "  print(n1)\n",
        "else:\n",
        "  print(\"Fibonacci Series :\")\n",
        "  while count < n_terms:\n",
        "    print(n1,end=\" \")\n",
        "    nth = n1+n2\n",
        "    n1 = n2\n",
        "    n2 = nth\n",
        "    count += 1"
      ],
      "execution_count": 6,
      "outputs": [
        {
          "output_type": "stream",
          "name": "stdout",
          "text": [
            "Enter the no. of terms : 10\n",
            "Fibonacci Series :\n",
            "0 1 1 2 3 5 8 13 21 34 "
          ]
        }
      ]
    },
    {
      "cell_type": "markdown",
      "metadata": {
        "id": "JfA0di-R3Rwq"
      },
      "source": [
        "# **9. Gross Pay**"
      ]
    },
    {
      "cell_type": "code",
      "metadata": {
        "colab": {
          "base_uri": "https://localhost:8080/"
        },
        "id": "CSbPXB492rSW",
        "outputId": "dc85404d-390b-4335-e978-5acfb5d01c39"
      },
      "source": [
        "hour = float(input(\"Enter the no. of hours : \"))\n",
        "rate = float(input(\"Enter the rate : \"))\n",
        "if hour <= 40:\n",
        "  print(\"PAY :\",hour*rate)\n",
        "else:\n",
        "  print(\"PAY :\",40*rate+(hour-40)*1.5*rate)"
      ],
      "execution_count": 13,
      "outputs": [
        {
          "output_type": "stream",
          "name": "stdout",
          "text": [
            "Enter the no. of hours : 50\n",
            "Enter the rate : 10\n",
            "PAY : 550.0\n"
          ]
        }
      ]
    },
    {
      "cell_type": "markdown",
      "metadata": {
        "id": "EIoawCGt4ovL"
      },
      "source": [
        "# **10. Hexadecimal Addition**"
      ]
    },
    {
      "cell_type": "code",
      "metadata": {
        "colab": {
          "base_uri": "https://localhost:8080/"
        },
        "id": "odo3pMTH4vfq",
        "outputId": "ec5de98e-c156-4ba2-f152-2a783429114a"
      },
      "source": [
        "a = input(\"Enter the 1st no. : \")\n",
        "b = input(\"Enter the 2nd no. : \")\n",
        "sum = hex(int(a,16)+int(b,16))\n",
        "print(sum[2:])"
      ],
      "execution_count": 19,
      "outputs": [
        {
          "output_type": "stream",
          "name": "stdout",
          "text": [
            "Enter the 1st no. : 0a3\n",
            "Enter the 2nd no. : 1f5\n",
            "298\n"
          ]
        }
      ]
    },
    {
      "cell_type": "markdown",
      "metadata": {
        "id": "cY1xnEIE6N4z"
      },
      "source": [
        "# **11. Matrix Addition**"
      ]
    },
    {
      "cell_type": "code",
      "metadata": {
        "colab": {
          "base_uri": "https://localhost:8080/"
        },
        "id": "31zTEjY64ttH",
        "outputId": "b2852bdc-0938-43b2-9294-dad429a7f696"
      },
      "source": [
        "X = [[1,2,3],\n",
        "     [4,5,6],\n",
        "     [7,8,9]]\n",
        "Y = [[9,8,7],\n",
        "     [6,5,4],\n",
        "     [3,2,1]]\n",
        "result = [[0,0,0],\n",
        "       [0,0,0],\n",
        "       [0,0,0]]\n",
        "for i in range(len(X)):\n",
        "  for j in range(len(Y)):\n",
        "    result[i][j] = X[i][j] + Y[i][j]\n",
        "for r in result:\n",
        "  print(r)"
      ],
      "execution_count": 31,
      "outputs": [
        {
          "output_type": "stream",
          "name": "stdout",
          "text": [
            "[10, 10, 10]\n",
            "[10, 10, 10]\n",
            "[10, 10, 10]\n"
          ]
        }
      ]
    },
    {
      "cell_type": "markdown",
      "metadata": {
        "id": "OUvY1ohLBYaY"
      },
      "source": [
        "# **12. MAX & MIN of two numbers**"
      ]
    },
    {
      "cell_type": "code",
      "metadata": {
        "colab": {
          "base_uri": "https://localhost:8080/"
        },
        "id": "EcvPGUSPBy5z",
        "outputId": "93fb171a-61d2-48c4-8b4f-0947ceba083f"
      },
      "source": [
        "a = int(input(\"Enter the 1st n0. : \")) \n",
        "b = int(input(\"Enter the 2nd n0. : \"))\n",
        "maxi = max(a,b)\n",
        "mini = min(a,b)\n",
        "print(\"MAX :\",maxi)\n",
        "print(\"MIN :\",mini)"
      ],
      "execution_count": 32,
      "outputs": [
        {
          "output_type": "stream",
          "name": "stdout",
          "text": [
            "Enter the 1st n0. : 5\n",
            "Enter the 2nd n0. : 10\n",
            "MAX : 10\n",
            "MIN : 5\n"
          ]
        }
      ]
    },
    {
      "cell_type": "markdown",
      "metadata": {
        "id": "hvVy6lctCMt3"
      },
      "source": [
        "# **13. Number of digits and letters in a String**"
      ]
    },
    {
      "cell_type": "code",
      "metadata": {
        "colab": {
          "base_uri": "https://localhost:8080/"
        },
        "id": "xXAXN7j3Bxzz",
        "outputId": "fd9565bd-3754-4cc0-fd70-74cc66b370e5"
      },
      "source": [
        "from math import *\n",
        "strg = input(\"Enter the string : \")\n",
        "total_digits = 0\n",
        "total_letters = 0\n",
        "for s in strg:\n",
        "  if s.isnumeric():\n",
        "    total_digits += 1\n",
        "  else:\n",
        "    total_letters += 1\n",
        "print(\"Total Digits :\",total_digits)\n",
        "print(\"Total Letters :\",total_letters)"
      ],
      "execution_count": 39,
      "outputs": [
        {
          "output_type": "stream",
          "name": "stdout",
          "text": [
            "Enter the string : hell0 wo3rld 56\n",
            "Total Digits : 4\n",
            "Total Letters : 11\n"
          ]
        }
      ]
    },
    {
      "cell_type": "markdown",
      "metadata": {
        "id": "ERI30vsLDqI8"
      },
      "source": [
        "## **14. Octal Addition**"
      ]
    },
    {
      "cell_type": "code",
      "metadata": {
        "colab": {
          "base_uri": "https://localhost:8080/"
        },
        "id": "qbWtVVq8DrHu",
        "outputId": "23e2fec3-9fe8-4441-9762-4f66012a9f80"
      },
      "source": [
        "a = input(\"Enter the 1st no. : \")\n",
        "b = input(\"Enter the 2nd no. : \")\n",
        "sum = oct(int(a,8)+int(b,8))\n",
        "print(sum[2:])"
      ],
      "execution_count": 41,
      "outputs": [
        {
          "output_type": "stream",
          "name": "stdout",
          "text": [
            "Enter the 1st no. : 65\n",
            "Enter the 2nd no. : 54\n",
            "141\n"
          ]
        }
      ]
    },
    {
      "cell_type": "markdown",
      "metadata": {
        "id": "tZ1DWf4YEHp1"
      },
      "source": [
        "# **15. Prime Numbers**"
      ]
    },
    {
      "cell_type": "code",
      "metadata": {
        "colab": {
          "base_uri": "https://localhost:8080/"
        },
        "id": "Ys7K4YGSEHLi",
        "outputId": "ebfefb49-f4c5-4e18-aadf-f1b4194df2f4"
      },
      "source": [
        "num = int(input(\"Enter the no. : \"))\n",
        "if num > 1:\n",
        "  for i in range(2,num):\n",
        "    if (num%i) != 0:\n",
        "      print(num,\"is a prime number.\")\n",
        "      break\n",
        "    else:\n",
        "      print(num,\"is not a prime number.\")\n",
        "      break"
      ],
      "execution_count": 51,
      "outputs": [
        {
          "name": "stdout",
          "output_type": "stream",
          "text": [
            "Enter the no. : 2\n"
          ]
        }
      ]
    },
    {
      "cell_type": "markdown",
      "metadata": {
        "id": "c2nVK2ZxFrl-"
      },
      "source": [
        "# **16. To print Prime numbers between n1 to n2**"
      ]
    },
    {
      "cell_type": "code",
      "metadata": {
        "colab": {
          "base_uri": "https://localhost:8080/"
        },
        "id": "pPQHpbgFCtSD",
        "outputId": "47e15e03-286a-4e2b-9c58-e71005fff11a"
      },
      "source": [
        "n1 = int(input(\"Enter the lower range : \"))\n",
        "n2 = int(input(\"Enter the highest range : \"))\n",
        "for num in range(n1,n2):\n",
        "  if num > 1:\n",
        "    for i in range(2,num):\n",
        "      if (num%i) == 0:\n",
        "        break\n",
        "    else:\n",
        "      print(num,end=\" \")"
      ],
      "execution_count": 54,
      "outputs": [
        {
          "output_type": "stream",
          "name": "stdout",
          "text": [
            "Enter the lower range : 10\n",
            "Enter the highest range : 20\n",
            "11 13 17 19 "
          ]
        }
      ]
    },
    {
      "cell_type": "markdown",
      "metadata": {
        "id": "f-C8OYpCHRez"
      },
      "source": [
        "# **17. Sum of Cubes**"
      ]
    },
    {
      "cell_type": "code",
      "metadata": {
        "colab": {
          "base_uri": "https://localhost:8080/"
        },
        "id": "WzeUrb8ZHRHU",
        "outputId": "d703351e-18c1-450a-d63e-b3e4fc3a8136"
      },
      "source": [
        "n = int(input(\"Enter the no. of terms : \"))\n",
        "sum = 0\n",
        "for i in range(1,n+1):\n",
        "  sum += (i**3)\n",
        "print(sum)"
      ],
      "execution_count": 56,
      "outputs": [
        {
          "output_type": "stream",
          "name": "stdout",
          "text": [
            "Enter the no. of terms : 5\n",
            "225\n"
          ]
        }
      ]
    },
    {
      "cell_type": "markdown",
      "metadata": {
        "id": "SHtozVmzMNzX"
      },
      "source": [
        "# **18. Sum of Squares**"
      ]
    },
    {
      "cell_type": "code",
      "metadata": {
        "colab": {
          "base_uri": "https://localhost:8080/"
        },
        "id": "izwkxw6CGOSu",
        "outputId": "8b773cc7-2534-4884-b591-3092187773b0"
      },
      "source": [
        "n = int(input(\"Enter the no. of terms : \"))\n",
        "sum = 0\n",
        "for i in range(1,n+1):\n",
        "  sum += (i**2)\n",
        "print(sum)"
      ],
      "execution_count": 58,
      "outputs": [
        {
          "output_type": "stream",
          "name": "stdout",
          "text": [
            "Enter the no. of terms : 5\n",
            "55\n"
          ]
        }
      ]
    },
    {
      "cell_type": "markdown",
      "metadata": {
        "id": "0U_mfnj0Mi19"
      },
      "source": [
        "# **19. Whether the number is Fibonacci or not**"
      ]
    },
    {
      "cell_type": "code",
      "metadata": {
        "colab": {
          "base_uri": "https://localhost:8080/"
        },
        "id": "eXBFSc6TMiZw",
        "outputId": "95911d31-26d3-4f00-e65e-a6c6310ec93e"
      },
      "source": [
        "n = int(input(\"Enter the no. : \"))\n",
        "count = 0\n",
        "n1,n2 = 1,1\n",
        "if n==0 and n==1:\n",
        "  print(\"YES\")\n",
        "else:\n",
        "  while count<n:\n",
        "    count = n1+n2\n",
        "    n1 = n2\n",
        "    n2 = count\n",
        "  if count == n:\n",
        "    print(\"YES\")\n",
        "  else:\n",
        "    print(\"NO\")"
      ],
      "execution_count": 62,
      "outputs": [
        {
          "output_type": "stream",
          "name": "stdout",
          "text": [
            "Enter the no. : 8\n",
            "YES\n"
          ]
        }
      ]
    }
  ]
}